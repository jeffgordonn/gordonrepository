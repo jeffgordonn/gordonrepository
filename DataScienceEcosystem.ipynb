{
 "cells": [
  {
   "cell_type": "markdown",
   "id": "444f6caa-e571-469d-9bb7-dc5d3dc4458f",
   "metadata": {},
   "source": [
    "# Data Science Tools and Ecosystem"
   ]
  },
  {
   "cell_type": "markdown",
   "id": "df070b89-e871-4de6-b12c-9ed08f47a044",
   "metadata": {},
   "source": [
    "**In this notebook, Data Science Tools and Ecosystems are summarized**"
   ]
  },
  {
   "cell_type": "markdown",
   "id": "5d079d08-835c-4621-9eae-eae26600e942",
   "metadata": {},
   "source": [
    "**Objective:**"
   ]
  },
  {
   "cell_type": "markdown",
   "id": "5ac49401-aa48-4249-80a7-c2ec276e84d1",
   "metadata": {},
   "source": [
    "* List popular languages for Data Science\n",
    "* List commonly used libraries for Data Science\n",
    "* List popular Data Science tools\n",
    "* Examples of Basic Python arithmetic"
   ]
  },
  {
   "cell_type": "markdown",
   "id": "212e85ad-9d2b-4972-b290-60f9048ec64c",
   "metadata": {},
   "source": [
    "Some of the commonly used languages that Data Scientists use are:"
   ]
  },
  {
   "cell_type": "markdown",
   "id": "efca4b95-73de-4775-9084-fe83dad005a8",
   "metadata": {},
   "source": [
    "1. Python\n",
    "2. SQL\n",
    "3. R Programming\n",
    "4. Scala\n",
    "5. Julia"
   ]
  },
  {
   "cell_type": "markdown",
   "id": "476cc82e-a9a9-41ce-bfde-25fcbc99d9e6",
   "metadata": {},
   "source": [
    "Some of the commonly used libraries used by Data Scientists include:"
   ]
  },
  {
   "cell_type": "markdown",
   "id": "1cdc015f-e404-4997-b459-6629dcf3f1cc",
   "metadata": {},
   "source": [
    "1. ggplot\n",
    "2. Pandas\n",
    "3. NumPy\n",
    "4. TensorFlow\n",
    "5. Matplotlib"
   ]
  },
  {
   "cell_type": "markdown",
   "id": "5994b7fc-c712-4ebc-a018-9182b2dcb1f0",
   "metadata": {},
   "source": [
    "|Data Science Tools|\n",
    "|------------------|\n",
    "|ggplot|\n",
    "|Tableau|\n",
    "|Juypter Notebooks|"
   ]
  },
  {
   "cell_type": "markdown",
   "id": "188260e6-4cfb-403d-b2a3-4b74089f1ff0",
   "metadata": {},
   "source": [
    "### Below are a few examples of evaluating arithmetic expressions in Python"
   ]
  },
  {
   "cell_type": "code",
   "execution_count": 2,
   "id": "96d60c93-5385-4473-a560-3ea01bd7fced",
   "metadata": {},
   "outputs": [
    {
     "data": {
      "text/plain": [
       "17"
      ]
     },
     "execution_count": 2,
     "metadata": {},
     "output_type": "execute_result"
    }
   ],
   "source": [
    "(3*4)+5\n",
    "# This is a simple arithmetic expression to multiply then add integers"
   ]
  },
  {
   "cell_type": "code",
   "execution_count": 3,
   "id": "a819d032-71f9-4581-9b03-1a4ad0ca0b63",
   "metadata": {},
   "outputs": [
    {
     "data": {
      "text/plain": [
       "3.3333333333333335"
      ]
     },
     "execution_count": 3,
     "metadata": {},
     "output_type": "execute_result"
    }
   ],
   "source": [
    "200/60\n",
    "# This will convert 200 minutes to hours"
   ]
  },
  {
   "cell_type": "markdown",
   "id": "fb9b7c72-9ed6-44ef-98bb-00e88f2993e0",
   "metadata": {},
   "source": [
    "## Author"
   ]
  },
  {
   "cell_type": "markdown",
   "id": "7e16c7e4-c7a6-4a55-8528-88a95df8a6fb",
   "metadata": {},
   "source": [
    "Jeffrey Gordon"
   ]
  },
  {
   "cell_type": "code",
   "execution_count": null,
   "id": "9c7ea91f-6342-4800-bfb8-a161cc58a446",
   "metadata": {},
   "outputs": [],
   "source": []
  }
 ],
 "metadata": {
  "kernelspec": {
   "display_name": "Python",
   "language": "python",
   "name": "conda-env-python-py"
  },
  "language_info": {
   "codemirror_mode": {
    "name": "ipython",
    "version": 3
   },
   "file_extension": ".py",
   "mimetype": "text/x-python",
   "name": "python",
   "nbconvert_exporter": "python",
   "pygments_lexer": "ipython3",
   "version": "3.7.12"
  }
 },
 "nbformat": 4,
 "nbformat_minor": 5
}
